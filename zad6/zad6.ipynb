{
 "cells": [
  {
   "cell_type": "code",
   "execution_count": 2,
   "metadata": {},
   "outputs": [],
   "source": [
    "a = \"Czy zgadzasz się ze stwierdzeniem, że sernik z rodzynkami nie jest potrawą?\"\n",
    "b = \"Czy zgadzasz się ze stwierdzeniem, że galaretka mięsna powinna zostać wycofana z życia codziennego?\"\n",
    "c = \"Czy zgadzasz się ze stwierdzeniem, że zupa to nie danie?\"\n",
    "d = \"Czy zgadzasz się ze stwierdzeniem, że powietrze w paczkach z chipsami jest zdrowsze, niż powietrze w Krakowie?\"\n",
    "e = \"Czy zgadzasz się ze stwierdzeniem, że jedzenie kabanosów w komunikacji zbiorowej powinno być zabronione pod groźbą kar pieniężnych?\"\n",
    "punkty = []"
   ]
  },
  {
   "cell_type": "code",
   "execution_count": 3,
   "metadata": {},
   "outputs": [],
   "source": [
    "def test(os):\n",
    "\n",
    "    lista_pytan = [a, b, c, d, e]\n",
    "    \n",
    "def zadaj_pytanie(a):\n",
    "        \n",
    "    print(a)\n",
    "    ax = input(\"1 oznacza zupełnie się nie zgadzam, a 5 oznacza całkowicie się zgadzam:\")\n",
    "    ax = int(ax)\n",
    "    if ax>5 or ax<1:\n",
    "        print(\"Wpisałaś/eś złą liczbę! Zrestartuj i zacznij od początku!\")\n",
    "    else:\n",
    "        return ax"
   ]
  },
  {
   "cell_type": "code",
   "execution_count": 4,
   "metadata": {},
   "outputs": [
    {
     "name": "stdout",
     "output_type": "stream",
     "text": [
      "Czy zgadzasz się ze stwierdzeniem, że sernik z rodzynkami nie jest potrawą?\n"
     ]
    },
    {
     "name": "stdin",
     "output_type": "stream",
     "text": [
      "1 oznacza zupełnie się nie zgadzam, a 5 oznacza całkowicie się zgadzam: 5\n"
     ]
    },
    {
     "name": "stdout",
     "output_type": "stream",
     "text": [
      "Czy zgadzasz się ze stwierdzeniem, że galaretka mięsna powinna zostać wycofana z życia codziennego?\n"
     ]
    },
    {
     "name": "stdin",
     "output_type": "stream",
     "text": [
      "1 oznacza zupełnie się nie zgadzam, a 5 oznacza całkowicie się zgadzam: 5\n"
     ]
    },
    {
     "name": "stdout",
     "output_type": "stream",
     "text": [
      "Czy zgadzasz się ze stwierdzeniem, że zupa to nie danie?\n"
     ]
    },
    {
     "name": "stdin",
     "output_type": "stream",
     "text": [
      "1 oznacza zupełnie się nie zgadzam, a 5 oznacza całkowicie się zgadzam: 5\n"
     ]
    },
    {
     "name": "stdout",
     "output_type": "stream",
     "text": [
      "Czy zgadzasz się ze stwierdzeniem, że powietrze w paczkach z chipsami jest zdrowsze, niż powietrze w Krakowie?\n"
     ]
    },
    {
     "name": "stdin",
     "output_type": "stream",
     "text": [
      "1 oznacza zupełnie się nie zgadzam, a 5 oznacza całkowicie się zgadzam: 5\n"
     ]
    },
    {
     "name": "stdout",
     "output_type": "stream",
     "text": [
      "Czy zgadzasz się ze stwierdzeniem, że jedzenie kabanosów w komunikacji zbiorowej powinno być zabronione pod groźbą kar pieniężnych?\n"
     ]
    },
    {
     "name": "stdin",
     "output_type": "stream",
     "text": [
      "1 oznacza zupełnie się nie zgadzam, a 5 oznacza całkowicie się zgadzam: 5\n"
     ]
    },
    {
     "name": "stdout",
     "output_type": "stream",
     "text": [
      "Twój wynik to 25 . Wspaniale. Właśnie Ciebie szukałem. Czy jesteś dziewczyną??? To mój numer: 703-442-512, zadzwoń!\n"
     ]
    }
   ],
   "source": [
    "pkt = zadaj_pytanie(a)\n",
    "punkty.append(pkt)\n",
    "pkt = zadaj_pytanie(b)\n",
    "punkty.append(pkt)\n",
    "pkt = zadaj_pytanie(c)\n",
    "punkty.append(pkt)\n",
    "pkt = zadaj_pytanie(d)\n",
    "punkty.append(pkt)\n",
    "pkt = zadaj_pytanie(e)\n",
    "punkty.append(pkt)\n",
    "wynik = sum(punkty)\n",
    "wynik = int(wynik)\n",
    "if wynik > 5 and wynik < 10:\n",
    "    print(\"Twój wynik to\", wynik, \".\", \"Byłoby dobrze, gdybyś wycofał się z życia publicznego. Porada: Zostań pustelnikiem.\")\n",
    "elif wynik == 5:\n",
    "    print(\"Twój wynik to\", wynik, \".\", \"Twoje odpowiedzi nie są społecznie poprawnie, zastanów się, czy nie powinieneś więcej sypiać w otoczeniu wielu poduszek.\")\n",
    "elif wynik >= 10 and wynik < 15:\n",
    "    print(\"Twój wynik to\", wynik, \".\", \"Prawdopodobnie lubisz sernik, ale rodzynki Ci nie przeszkadzają. Coś jest z Tobą nie tak.\")\n",
    "elif wynik >= 15 and wynik < 20:\n",
    "    print(\"Twój wynik to\", wynik, \".\", \"Mieścisz się w średniej społecznej. Gratulacje, teraz czas na więcej pracy nad sobą!\")\n",
    "elif wynik >=20 and wynik < 25:\n",
    "    print(\"Twój wynik to\", wynik, \".\", \"Dobrze, że jesteś. Więcej ludzi Twojego pokroju sprawi, że będziemy żyć w zgodzie i tak dalej...\")\n",
    "elif wynik == 25:\n",
    "    print(\"Twój wynik to\", wynik, \".\", \"Wspaniale. Właśnie Ciebie szukałem. Czy jesteś dziewczyną??? To mój numer: 703-442-512, zadzwoń!\")\n",
    "    \n",
    "if wynik > 0:\n",
    "    punkty.pop(0)\n",
    "    punkty.pop(0)\n",
    "    punkty.pop(0)\n",
    "    punkty.pop(0)\n",
    "    punkty.pop(0)\n",
    "else:\n",
    "    print(\"Dzięki za zrobienie testu!\")\n"
   ]
  },
  {
   "cell_type": "code",
   "execution_count": null,
   "metadata": {},
   "outputs": [],
   "source": []
  }
 ],
 "metadata": {
  "kernelspec": {
   "display_name": "Python 3",
   "language": "python",
   "name": "python3"
  },
  "language_info": {
   "codemirror_mode": {
    "name": "ipython",
    "version": 3
   },
   "file_extension": ".py",
   "mimetype": "text/x-python",
   "name": "python",
   "nbconvert_exporter": "python",
   "pygments_lexer": "ipython3",
   "version": "3.7.0"
  }
 },
 "nbformat": 4,
 "nbformat_minor": 2
}
